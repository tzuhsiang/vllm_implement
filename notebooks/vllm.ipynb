{
 "cells": [
  {
   "cell_type": "code",
   "execution_count": 26,
   "metadata": {},
   "outputs": [],
   "source": [
    "import requests\n",
    "import json\n",
    "\n",
    "def generate_text(prompt: str,  max_tokens: int = 512, temperature: float = 0.7):\n",
    "    \"\"\"生成文本的函數\"\"\"\n",
    "    BASE_URL = \"http://localhost:8000\"\n",
    "    url = f\"{BASE_URL}/generate\"\n",
    "    payload = {\n",
    "        \"prompt\": prompt,\n",
    "        \"max_tokens\": max_tokens,\n",
    "        \"temperature\": temperature\n",
    "        }\n",
    "    try:\n",
    "        response = requests.post(url, json=payload)\n",
    "        response.raise_for_status()\n",
    "        return response.json()\n",
    "    except requests.exceptions.RequestException as e:\n",
    "        print(f\"API 請求錯誤: {str(e)}\")\n",
    "        return None \n"
   ]
  },
  {
   "cell_type": "code",
   "execution_count": 28,
   "metadata": {},
   "outputs": [
    {
     "name": "stdout",
     "output_type": "stream",
     "text": [
      " 你是什麼形狀? 你是什麼性別? 你是什麼種族? 你是什麼記憶? 你是什麼情感? 你是什麼情迷? 你是什麼動機? 你是什麼的生活模式? 你是什麼內心的心情? 你是什麼感情? 你是什麼感覺? 你是什麼情\n"
     ]
    }
   ],
   "source": [
    "result = generate_text(\"你是什麼模型?\", max_tokens=256)\n",
    "print(result['text'])"
   ]
  },
  {
   "cell_type": "code",
   "execution_count": null,
   "metadata": {},
   "outputs": [],
   "source": []
  }
 ],
 "metadata": {
  "kernelspec": {
   "display_name": ".venv",
   "language": "python",
   "name": "python3"
  },
  "language_info": {
   "codemirror_mode": {
    "name": "ipython",
    "version": 3
   },
   "file_extension": ".py",
   "mimetype": "text/x-python",
   "name": "python",
   "nbconvert_exporter": "python",
   "pygments_lexer": "ipython3",
   "version": "3.12.3"
  }
 },
 "nbformat": 4,
 "nbformat_minor": 2
}
